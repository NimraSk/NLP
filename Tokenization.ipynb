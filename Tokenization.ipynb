{
 "cells": [
  {
   "cell_type": "markdown",
   "id": "166d42e3-7dd7-421f-82aa-c0d73685d4f6",
   "metadata": {},
   "source": [
    "Installing the libraries for Tokenization"
   ]
  },
  {
   "cell_type": "code",
   "execution_count": 1,
   "id": "0e9bb208-7eda-4aeb-8e67-e71ac7459529",
   "metadata": {},
   "outputs": [
    {
     "name": "stdout",
     "output_type": "stream",
     "text": [
      "Defaulting to user installation because normal site-packages is not writeable\n",
      "Requirement already satisfied: nltk in c:\\programdata\\anaconda3\\lib\\site-packages (3.8.1)\n",
      "Requirement already satisfied: click in c:\\programdata\\anaconda3\\lib\\site-packages (from nltk) (8.1.7)\n",
      "Requirement already satisfied: joblib in c:\\programdata\\anaconda3\\lib\\site-packages (from nltk) (1.2.0)\n",
      "Requirement already satisfied: regex>=2021.8.3 in c:\\programdata\\anaconda3\\lib\\site-packages (from nltk) (2023.10.3)\n",
      "Requirement already satisfied: tqdm in c:\\programdata\\anaconda3\\lib\\site-packages (from nltk) (4.65.0)\n",
      "Requirement already satisfied: colorama in c:\\programdata\\anaconda3\\lib\\site-packages (from click->nltk) (0.4.6)\n"
     ]
    }
   ],
   "source": [
    "!pip install nltk"
   ]
  },
  {
   "cell_type": "code",
   "execution_count": 33,
   "id": "9ca2a23d-3849-472f-9385-c21e127f9a59",
   "metadata": {},
   "outputs": [],
   "source": [
    "corpus = \"\"\" I love to dance and my husband loves to play cricket. We together love to do gardening!\"\"\""
   ]
  },
  {
   "cell_type": "code",
   "execution_count": 34,
   "id": "0a5449ea-ce4d-4a9b-9cb3-80c4d27fb465",
   "metadata": {},
   "outputs": [
    {
     "data": {
      "text/plain": [
       "' I love to dance and my husband loves to play cricket. We together love to do gardening!'"
      ]
     },
     "execution_count": 34,
     "metadata": {},
     "output_type": "execute_result"
    }
   ],
   "source": [
    "corpus"
   ]
  },
  {
   "cell_type": "code",
   "execution_count": 35,
   "id": "4aaec352-3eae-4f7a-9ae4-f29cead11328",
   "metadata": {},
   "outputs": [
    {
     "name": "stdout",
     "output_type": "stream",
     "text": [
      " I love to dance and my husband loves to play cricket. We together love to do gardening!\n"
     ]
    }
   ],
   "source": [
    "print(corpus)"
   ]
  },
  {
   "cell_type": "markdown",
   "id": "12229968-74a0-4230-a30c-e5e8619ae994",
   "metadata": {},
   "source": [
    "Converting Documents to Corpus"
   ]
  },
  {
   "cell_type": "code",
   "execution_count": 36,
   "id": "c4a92591-188a-4c91-acaf-6136717429a2",
   "metadata": {},
   "outputs": [],
   "source": [
    "from nltk.tokenize import sent_tokenize"
   ]
  },
  {
   "cell_type": "code",
   "execution_count": 43,
   "id": "d29bdf09-a882-4fb5-88f2-e65f218b689c",
   "metadata": {},
   "outputs": [],
   "source": [
    "documents = sent_tokenize(corpus)"
   ]
  },
  {
   "cell_type": "code",
   "execution_count": 42,
   "id": "82ed629b-f6ae-4ee6-b301-3e9aa8652633",
   "metadata": {},
   "outputs": [
    {
     "data": {
      "text/plain": [
       "[' I love to dance and my husband loves to play cricket.',\n",
       " 'We together love to do gardening!']"
      ]
     },
     "execution_count": 42,
     "metadata": {},
     "output_type": "execute_result"
    }
   ],
   "source": [
    "sent_tokenize(corpus)"
   ]
  },
  {
   "cell_type": "markdown",
   "id": "3f491772-b564-463e-9f6d-705af596707b",
   "metadata": {},
   "source": [
    "Corpus to Words\n",
    "\n",
    "Documents to Words"
   ]
  },
  {
   "cell_type": "code",
   "execution_count": 38,
   "id": "932fce2f-1bfc-4d8c-ae69-f5869b619ec5",
   "metadata": {},
   "outputs": [],
   "source": [
    "from nltk.tokenize import word_tokenize"
   ]
  },
  {
   "cell_type": "code",
   "execution_count": 39,
   "id": "261f5247-f0ae-4ae4-ad8d-29d2dfb86ed7",
   "metadata": {},
   "outputs": [
    {
     "data": {
      "text/plain": [
       "['I',\n",
       " 'love',\n",
       " 'to',\n",
       " 'dance',\n",
       " 'and',\n",
       " 'my',\n",
       " 'husband',\n",
       " 'loves',\n",
       " 'to',\n",
       " 'play',\n",
       " 'cricket',\n",
       " '.',\n",
       " 'We',\n",
       " 'together',\n",
       " 'love',\n",
       " 'to',\n",
       " 'do',\n",
       " 'gardening',\n",
       " '!']"
      ]
     },
     "execution_count": 39,
     "metadata": {},
     "output_type": "execute_result"
    }
   ],
   "source": [
    " word_tokenize(corpus) #all words including full stop and exclamation"
   ]
  },
  {
   "cell_type": "code",
   "execution_count": 44,
   "id": "b4412e5b-222b-4b47-9184-6e22dec7bb58",
   "metadata": {},
   "outputs": [
    {
     "name": "stdout",
     "output_type": "stream",
     "text": [
      " I love to dance and my husband loves to play cricket.\n",
      "We together love to do gardening!\n"
     ]
    }
   ],
   "source": [
    "for sentence in documents:\n",
    "    print(sentence) \n",
    "#we separated the sentences in paragraph"
   ]
  },
  {
   "cell_type": "code",
   "execution_count": 45,
   "id": "92225312-dc51-4f75-b9b8-aa499c8a4e77",
   "metadata": {},
   "outputs": [
    {
     "name": "stdout",
     "output_type": "stream",
     "text": [
      "['I', 'love', 'to', 'dance', 'and', 'my', 'husband', 'loves', 'to', 'play', 'cricket', '.']\n",
      "['We', 'together', 'love', 'to', 'do', 'gardening', '!']\n"
     ]
    }
   ],
   "source": [
    "for sentence in documents:\n",
    "    print( word_tokenize(sentence))\n",
    "    #we separated the all words in sentences  "
   ]
  },
  {
   "cell_type": "code",
   "execution_count": 46,
   "id": "2498171a-3d0d-457c-b0f2-2febd9d612da",
   "metadata": {},
   "outputs": [],
   "source": [
    "from nltk.tokenize import TreebankWordTokenizer"
   ]
  },
  {
   "cell_type": "code",
   "execution_count": 47,
   "id": "03a12403-ced3-4ee5-bf0c-9bc1ec4c26e9",
   "metadata": {},
   "outputs": [],
   "source": [
    "tokenizer = TreebankWordTokenizer()"
   ]
  },
  {
   "cell_type": "code",
   "execution_count": null,
   "id": "db4cc141-7be9-451d-9343-722f64687e5f",
   "metadata": {},
   "outputs": [],
   "source": []
  }
 ],
 "metadata": {
  "kernelspec": {
   "display_name": "Python 3 (ipykernel)",
   "language": "python",
   "name": "python3"
  },
  "language_info": {
   "codemirror_mode": {
    "name": "ipython",
    "version": 3
   },
   "file_extension": ".py",
   "mimetype": "text/x-python",
   "name": "python",
   "nbconvert_exporter": "python",
   "pygments_lexer": "ipython3",
   "version": "3.12.4"
  }
 },
 "nbformat": 4,
 "nbformat_minor": 5
}
